{
 "cells": [
  {
   "cell_type": "code",
   "execution_count": 64,
   "metadata": {},
   "outputs": [],
   "source": [
    "happiness = {\n",
    "    'Afganistan': 2.6,\n",
    "    'Albania': 4.9,\n",
    "    'Algeria': 5.0,\n",
    "    'Argentina': 6.0,\n",
    "    'Armenia': 4.7,\n",
    "    'Australia': 7.2,\n",
    "    'Austria': 7.3,\n",
    "    'Azerbaijan': 5.2,\n",
    "    'Bahrain': 6.2,\n",
    "    'Bangladesh': 4.8,\n",
    "}"
   ]
  },
  {
   "cell_type": "code",
   "execution_count": 65,
   "metadata": {},
   "outputs": [
    {
     "data": {
      "text/plain": [
       "dict"
      ]
     },
     "execution_count": 65,
     "metadata": {},
     "output_type": "execute_result"
    }
   ],
   "source": [
    "type(happiness)"
   ]
  },
  {
   "cell_type": "code",
   "execution_count": 66,
   "metadata": {},
   "outputs": [],
   "source": [
    "def print_country_statuses(happiness):\n",
    "    for country_happiness in happiness:\n",
    "        if happiness[country_happiness] > 6:\n",
    "            print(country_happiness, 'is happy.')\n",
    "        else:\n",
    "            print(country_happiness, 'is sad.')"
   ]
  },
  {
   "cell_type": "code",
   "execution_count": 67,
   "metadata": {},
   "outputs": [
    {
     "name": "stdout",
     "output_type": "stream",
     "text": [
      "Afganistan is sad.\n",
      "Albania is sad.\n",
      "Algeria is sad.\n",
      "Argentina is sad.\n",
      "Armenia is sad.\n",
      "Australia is happy.\n",
      "Austria is happy.\n",
      "Azerbaijan is sad.\n",
      "Bahrain is happy.\n",
      "Bangladesh is sad.\n"
     ]
    }
   ],
   "source": [
    "print_country_statuses(happiness)"
   ]
  },
  {
   "cell_type": "code",
   "execution_count": null,
   "metadata": {},
   "outputs": [],
   "source": []
  }
 ],
 "metadata": {
  "kernelspec": {
   "display_name": "Python 3",
   "language": "python",
   "name": "python3"
  },
  "language_info": {
   "codemirror_mode": {
    "name": "ipython",
    "version": 3
   },
   "file_extension": ".py",
   "mimetype": "text/x-python",
   "name": "python",
   "nbconvert_exporter": "python",
   "pygments_lexer": "ipython3",
   "version": "3.8.3"
  }
 },
 "nbformat": 4,
 "nbformat_minor": 4
}
